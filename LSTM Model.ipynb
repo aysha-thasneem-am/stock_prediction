{
 "cells": [
  {
   "cell_type": "code",
   "execution_count": 2,
   "id": "bd2e0965",
   "metadata": {},
   "outputs": [],
   "source": [
    "import numpy as np\n",
    "import pandas as pd\n",
    "import matplotlib.pyplot as plt\n",
    "import yfinance as yf"
   ]
  },
  {
   "cell_type": "code",
   "execution_count": null,
   "id": "82b5f8ce",
   "metadata": {},
   "outputs": [
    {
     "name": "stderr",
     "output_type": "stream",
     "text": [
      "Exception in thread Thread-6:\n",
      "Traceback (most recent call last):\n",
      "  File \"c:\\users\\lenovo\\appdata\\local\\programs\\python\\python36-32\\lib\\threading.py\", line 916, in _bootstrap_inner\n",
      "    self.run()\n",
      "  File \"c:\\users\\lenovo\\appdata\\local\\programs\\python\\python36-32\\lib\\threading.py\", line 864, in run\n",
      "    self._target(*self._args, **self._kwargs)\n",
      "  File \"c:\\users\\lenovo\\appdata\\local\\programs\\python\\python36-32\\lib\\site-packages\\multitasking\\__init__.py\", line 104, in _run_via_pool\n",
      "    return callee(*args, **kwargs)\n",
      "  File \"c:\\users\\lenovo\\appdata\\local\\programs\\python\\python36-32\\lib\\site-packages\\yfinance\\multi.py\", line 201, in _download_one_threaded\n",
      "    keepna, timeout, many=True)\n",
      "  File \"c:\\users\\lenovo\\appdata\\local\\programs\\python\\python36-32\\lib\\site-packages\\yfinance\\multi.py\", line 218, in _download_one\n",
      "    many=many)\n",
      "  File \"c:\\users\\lenovo\\appdata\\local\\programs\\python\\python36-32\\lib\\site-packages\\yfinance\\base.py\", line 156, in history\n",
      "    tz = self._get_ticker_tz(debug_mode, proxy, timeout)\n",
      "  File \"c:\\users\\lenovo\\appdata\\local\\programs\\python\\python36-32\\lib\\site-packages\\yfinance\\base.py\", line 339, in _get_ticker_tz\n",
      "    tkr_tz = utils.cache_lookup_tkr_tz(self.ticker)\n",
      "  File \"c:\\users\\lenovo\\appdata\\local\\programs\\python\\python36-32\\lib\\site-packages\\yfinance\\utils.py\", line 339, in cache_lookup_tkr_tz\n",
      "    df = _pd.read_csv(fp, index_col=\"Ticker\", on_bad_lines=\"skip\")\n",
      "TypeError: read_csv() got an unexpected keyword argument 'on_bad_lines'\n",
      "\n"
     ]
    }
   ],
   "source": [
    "#to get stock market data\n",
    "start = '2012-01-01'\n",
    "end = '2022-12-31'\n",
    "#every stock has code.\n",
    "stock = 'GOOG'\n",
    "data = yf.download(stock,start,end)"
   ]
  },
  {
   "cell_type": "code",
   "execution_count": null,
   "id": "1e525e0b",
   "metadata": {},
   "outputs": [],
   "source": [
    "import fix_yahoo_finance as yf"
   ]
  },
  {
   "cell_type": "code",
   "execution_count": null,
   "id": "db959c4e",
   "metadata": {},
   "outputs": [],
   "source": []
  }
 ],
 "metadata": {
  "kernelspec": {
   "display_name": "Python 3",
   "language": "python",
   "name": "python3"
  },
  "language_info": {
   "codemirror_mode": {
    "name": "ipython",
    "version": 3
   },
   "file_extension": ".py",
   "mimetype": "text/x-python",
   "name": "python",
   "nbconvert_exporter": "python",
   "pygments_lexer": "ipython3",
   "version": "3.6.4"
  }
 },
 "nbformat": 4,
 "nbformat_minor": 5
}
